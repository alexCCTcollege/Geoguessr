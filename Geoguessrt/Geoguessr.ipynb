{
 "cells": [
  {
   "cell_type": "code",
   "execution_count": 9,
   "metadata": {},
   "outputs": [],
   "source": [
    "from selenium import webdriver\n",
    "from selenium.webdriver.chrome.service import Service\n",
    "from webdriver_manager.chrome import ChromeDriverManager\n",
    "from selenium.webdriver.common.by import By\n",
    "from selenium.webdriver.support.ui import WebDriverWait\n",
    "from selenium.webdriver.support import expected_conditions as EC\n",
    "from seleniumbase import Driver"
   ]
  },
  {
   "cell_type": "code",
   "execution_count": 32,
   "metadata": {},
   "outputs": [
    {
     "data": {
      "text/plain": [
       "'  It would be great if I was able to automate it but I\\'ll do it manually\\n\\n\\ndriver.implicitly_wait(10)\\n#cookies\\nelement = WebDriverWait(driver, 10).until(\\n        EC.presence_of_element_located((By.ID, \"onetrust-accept-btn-handler\"))\\n    )\\nelement.click()\\n\\n\\n#join with code DOESN\\'T WORK\\nlink = WebDriverWait(driver, 10).until(\\n        EC.presence_of_element_located((By.LINK_TEXT, \"Join by game code\")))\\nlink.click()\\n\\n'"
      ]
     },
     "execution_count": 32,
     "metadata": {},
     "output_type": "execute_result"
    },
    {
     "ename": "",
     "evalue": "",
     "output_type": "error",
     "traceback": [
      "\u001b[1;31mThe Kernel crashed while executing code in the the current cell or a previous cell. Please review the code in the cell(s) to identify a possible cause of the failure. Click <a href='https://aka.ms/vscodeJupyterKernelCrash'>here</a> for more info. View Jupyter <a href='command:jupyter.viewOutput'>log</a> for further details."
     ]
    }
   ],
   "source": [
    "driver = Driver(browser=\"chrome\", headless=False)\n",
    "\n",
    "# Open GeoGuessr\n",
    "driver.get(\"https://www.geoguessr.com/\")\n",
    "\n",
    "'''  It would be great if I was able to automate it but I'll do it manually\n",
    "\n",
    "\n",
    "driver.implicitly_wait(10)\n",
    "#cookies\n",
    "element = WebDriverWait(driver, 10).until(\n",
    "        EC.presence_of_element_located((By.ID, \"onetrust-accept-btn-handler\"))\n",
    "    )\n",
    "element.click()\n",
    "\n",
    "\n",
    "#join with code DOESN'T WORK\n",
    "link = WebDriverWait(driver, 10).until(\n",
    "        EC.presence_of_element_located((By.LINK_TEXT, \"Join by game code\")))\n",
    "link.click()\n",
    "\n",
    "'''\n"
   ]
  },
  {
   "cell_type": "markdown",
   "metadata": {},
   "source": [
    "ACCEPT COOKIES\n",
    "JOIN WITH CODE\n",
    "CREATE NAME\n",
    "PARTY CODE:       D3C2"
   ]
  },
  {
   "cell_type": "code",
   "execution_count": 31,
   "metadata": {},
   "outputs": [
    {
     "ename": "KeyboardInterrupt",
     "evalue": "",
     "output_type": "error",
     "traceback": [
      "\u001b[1;31m---------------------------------------------------------------------------\u001b[0m",
      "\u001b[1;31mKeyboardInterrupt\u001b[0m                         Traceback (most recent call last)",
      "Cell \u001b[1;32mIn[31], line 9\u001b[0m\n\u001b[0;32m      6\u001b[0m pyautogui\u001b[38;5;241m.\u001b[39mmoveTo(\u001b[38;5;241m971\u001b[39m, \u001b[38;5;241m846\u001b[39m, duration\u001b[38;5;241m=\u001b[39m\u001b[38;5;241m1\u001b[39m)\n\u001b[0;32m      7\u001b[0m \u001b[38;5;28;01mfor\u001b[39;00m i,x \u001b[38;5;129;01min\u001b[39;00m \u001b[38;5;28menumerate\u001b[39m(\u001b[38;5;28mrange\u001b[39m(\u001b[38;5;241m5\u001b[39m)):\n\u001b[0;32m      8\u001b[0m     \u001b[38;5;66;03m#pyautogui.click()\u001b[39;00m\n\u001b[1;32m----> 9\u001b[0m     \u001b[43mtime\u001b[49m\u001b[38;5;241;43m.\u001b[39;49m\u001b[43msleep\u001b[49m\u001b[43m(\u001b[49m\u001b[38;5;241;43m8\u001b[39;49m\u001b[43m)\u001b[49m\n\u001b[0;32m     10\u001b[0m     driver\u001b[38;5;241m.\u001b[39msave_screenshot(\u001b[38;5;124mf\u001b[39m\u001b[38;5;124m'\u001b[39m\u001b[38;5;132;01m{\u001b[39;00mi\u001b[38;5;132;01m}\u001b[39;00m\u001b[38;5;124m.png\u001b[39m\u001b[38;5;124m'\u001b[39m)\n\u001b[0;32m     11\u001b[0m     time\u001b[38;5;241m.\u001b[39msleep(\u001b[38;5;241m18\u001b[39m)\n",
      "\u001b[1;31mKeyboardInterrupt\u001b[0m: "
     ]
    }
   ],
   "source": [
    "import pyautogui\n",
    "import time\n",
    "time.sleep(5) #chiude vsc e clicca nella tab geoguessr\n",
    "#clicca start\n",
    "#move to continue\n",
    "pyautogui.moveTo(971, 846, duration=1)\n",
    "for i,x in enumerate(range(5)):\n",
    "    #pyautogui.click()\n",
    "    time.sleep(8)\n",
    "    driver.save_screenshot(f'{i}.png')\n",
    "    time.sleep(18)\n",
    "    pyautogui.click()"
   ]
  },
  {
   "cell_type": "code",
   "execution_count": 27,
   "metadata": {},
   "outputs": [],
   "source": [
    "time.sleep(5)\n",
    "pyautogui.position()\n",
    "pyautogui.click(1562,819)"
   ]
  }
 ],
 "metadata": {
  "kernelspec": {
   "display_name": "base",
   "language": "python",
   "name": "base"
  },
  "language_info": {
   "codemirror_mode": {
    "name": "ipython",
    "version": 3
   },
   "file_extension": ".py",
   "mimetype": "text/x-python",
   "name": "python",
   "nbconvert_exporter": "python",
   "pygments_lexer": "ipython3",
   "version": "3.9.7"
  }
 },
 "nbformat": 4,
 "nbformat_minor": 2
}
